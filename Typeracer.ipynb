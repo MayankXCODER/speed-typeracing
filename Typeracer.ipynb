{
 "cells": [
  {
   "cell_type": "code",
   "execution_count": 1,
   "metadata": {},
   "outputs": [],
   "source": [
    "import numpy as np\n",
    "import pytesseract\n",
    "import pyautogui as pag\n",
    "import pyautogui \n",
    "import imutils\n",
    "import cv2\n",
    "import matplotlib.pyplot as plt\n",
    "import keyboard\n",
    "import time\n",
    "from PIL import Image\n",
    "\n",
    "pytesseract.pytesseract.tesseract_cmd = r'C:\\Program Files\\Tesseract-OCR\\tesseract'"
   ]
  },
  {
   "cell_type": "code",
   "execution_count": 2,
   "metadata": {},
   "outputs": [],
   "source": [
    "class TypeRacer:\n",
    "    \n",
    "    def __init__(self):\n",
    "        self.screenshot = None\n",
    "#         self.start()\n",
    "    \n",
    "    def take_screenshot(self):\n",
    "        while True:\n",
    "            try:\n",
    "                if keyboard.is_pressed('ctrl'):\n",
    "                    screenshot = pyautogui.screenshot()\n",
    "                    self.screenshot = cv2.cvtColor(np.array(screenshot), cv2.COLOR_RGB2BGR)\n",
    "                    break\n",
    "                else:\n",
    "                    pass\n",
    "            except:\n",
    "                break        \n",
    "    \n",
    "    def select_ROI(self):\n",
    "        self.roi = cv2.selectROI(self.screenshot)\n",
    "        cv2.destroyAllWindows()\n",
    "        \n",
    "    def get_ROI_image(self):\n",
    "        x, y, w, h = self.roi\n",
    "        self.text_image = self.screenshot[y: y+h, x: x+w]\n",
    "        self.text_image = Image.fromarray(self.text_image) #cv2 img to Image img\n",
    "        \n",
    "    def image_to_text(self):\n",
    "        text = pytesseract.image_to_string(self.text_image, lang='eng')\n",
    "        text = text.replace('\\n', ' ')\n",
    "        text = text.replace('[', '')\n",
    "#         text = ''.join([i for i in text if i.isalnum() or i.isspace()])\n",
    "        self.text = text.replace('|', 'I')\n",
    "        \n",
    "    def type_text(self):        \n",
    "        pyautogui.write(self.text, interval=TIME)#0.05)\n",
    "        \n",
    "    def start(self):\n",
    "        self.take_screenshot()\n",
    "        self.select_ROI()\n",
    "        self.get_ROI_image()\n",
    "        self.image_to_text()\n",
    "        while True:\n",
    "            if keyboard.is_pressed('ctrl'):\n",
    "                time.sleep(0.5)\n",
    "                break\n",
    "        self.type_text()"
   ]
  },
  {
   "cell_type": "code",
   "execution_count": 3,
   "metadata": {},
   "outputs": [],
   "source": [
    "#HOW TO USE\n",
    "#Press ctrl to capture the image\n",
    "#When the race starts, click in the typing region and press ctrl."
   ]
  },
  {
   "cell_type": "code",
   "execution_count": 4,
   "metadata": {},
   "outputs": [],
   "source": [
    "TIME = 0.05 #lowet this, higher the speed\n",
    "t = TypeRacer()"
   ]
  },
  {
   "cell_type": "code",
   "execution_count": 5,
   "metadata": {},
   "outputs": [],
   "source": [
    "t.start()"
   ]
  },
  {
   "cell_type": "code",
   "execution_count": null,
   "metadata": {},
   "outputs": [],
   "source": []
  },
  {
   "cell_type": "code",
   "execution_count": 208,
   "metadata": {},
   "outputs": [
    {
     "data": {
      "text/plain": [
       "253.21100917431193"
      ]
     },
     "execution_count": 208,
     "metadata": {},
     "output_type": "execute_result"
    }
   ],
   "source": [
    "#to convert speed to WPM\n",
    "# TIME = 0.05\n",
    "# w = len(a.split(' '))\n",
    "# c = len(a)\n",
    "# dur = c * TIME\n",
    "# wpm = w * 60 /dur\n",
    "# wpm"
   ]
  }
 ],
 "metadata": {
  "kernelspec": {
   "display_name": "Python 3",
   "language": "python",
   "name": "python3"
  },
  "language_info": {
   "codemirror_mode": {
    "name": "ipython",
    "version": 3
   },
   "file_extension": ".py",
   "mimetype": "text/x-python",
   "name": "python",
   "nbconvert_exporter": "python",
   "pygments_lexer": "ipython3",
   "version": "3.7.5"
  }
 },
 "nbformat": 4,
 "nbformat_minor": 2
}
